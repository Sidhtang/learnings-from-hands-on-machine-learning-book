{
  "nbformat": 4,
  "nbformat_minor": 0,
  "metadata": {
    "colab": {
      "provenance": [],
      "authorship_tag": "ABX9TyPRtfmSUIoE2rac1blF9HAz",
      "include_colab_link": true
    },
    "kernelspec": {
      "name": "python3",
      "display_name": "Python 3"
    },
    "language_info": {
      "name": "python"
    }
  },
  "cells": [
    {
      "cell_type": "markdown",
      "metadata": {
        "id": "view-in-github",
        "colab_type": "text"
      },
      "source": [
        "<a href=\"https://colab.research.google.com/github/Sidhtang/learnings-from-hands-on-machine-learning-book/blob/main/Learning_about_autoencoder.ipynb\" target=\"_parent\"><img src=\"https://colab.research.google.com/assets/colab-badge.svg\" alt=\"Open In Colab\"/></a>"
      ]
    },
    {
      "cell_type": "code",
      "execution_count": 1,
      "metadata": {
        "id": "SlEg_pcWWjs2"
      },
      "outputs": [],
      "source": [
        "import numpy as np\n",
        "import pandas as pd\n",
        "import matplotlib.pyplot as plt\n",
        "import seaborn as sns\n",
        "import sklearn\n",
        "assert sklearn.__version__ >= \"0.20\"\n",
        "import tensorflow as tf\n",
        "from tensorflow import keras\n",
        "assert tf.__version__ >= \"2.0\"\n"
      ]
    },
    {
      "cell_type": "code",
      "source": [
        "#PCA wiht a linear\n",
        "#building a #3d dataset"
      ],
      "metadata": {
        "id": "9x3tq-UTW9WM"
      },
      "execution_count": 2,
      "outputs": []
    },
    {
      "cell_type": "code",
      "source": [
        "np.random.seed(4)\n",
        "\n",
        "def generate_3d_data(m, w1=0.1, w2=0.3, noise=0.1):\n",
        "    angles = np.random.rand(m) * 3 * np.pi / 2 - 0.5\n",
        "    data = np.empty((m, 3))\n",
        "    data[:, 0] = np.cos(angles) + np.sin(angles)/2 + noise * np.random.randn(m) / 2\n",
        "    data[:, 1] = np.sin(angles) * 0.7 + noise * np.random.randn(m) / 2\n",
        "    data[:, 2] = data[:, 0] * w1 + data[:, 1] * w2 + noise * np.random.randn(m)\n",
        "    return data\n",
        "\n",
        "X_train = generate_3d_data(60)\n",
        "X_train = X_train - X_train.mean(axis=0, keepdims=0)"
      ],
      "metadata": {
        "id": "rCmNo8AAW9ZO"
      },
      "execution_count": 3,
      "outputs": []
    },
    {
      "cell_type": "code",
      "source": [
        "np.random.seed(42)\n",
        "tf.random.set_seed(42)\n",
        "encoder=keras.models.Sequential([\n",
        "    keras.layers.Dense(2,input_shape=[3])\n",
        "])\n",
        "decoder=keras.models.Sequential([\n",
        "    keras.layers.Dense(3,input_shape=[2])\n",
        "])\n",
        "autoencoder=keras.models.Sequential([encoder,decoder])\n",
        "autoencoder.compile(loss=\"mse\",optimizer=keras.optimizers.SGD(learning_rate=1.5))"
      ],
      "metadata": {
        "id": "7lGg_cIsW9cs"
      },
      "execution_count": 4,
      "outputs": []
    },
    {
      "cell_type": "code",
      "source": [
        "history=autoencoder.fit(X_train,X_train,epochs=20)"
      ],
      "metadata": {
        "colab": {
          "base_uri": "https://localhost:8080/"
        },
        "id": "lFGPKoAoW-VT",
        "outputId": "97be4ccd-e466-4928-e3d2-988a82588de5"
      },
      "execution_count": 5,
      "outputs": [
        {
          "output_type": "stream",
          "name": "stdout",
          "text": [
            "Epoch 1/20\n",
            "2/2 [==============================] - 1s 14ms/step - loss: 1.0768\n",
            "Epoch 2/20\n",
            "2/2 [==============================] - 0s 12ms/step - loss: 0.1760\n",
            "Epoch 3/20\n",
            "2/2 [==============================] - 0s 14ms/step - loss: 0.0729\n",
            "Epoch 4/20\n",
            "2/2 [==============================] - 0s 15ms/step - loss: 0.1830\n",
            "Epoch 5/20\n",
            "2/2 [==============================] - 0s 11ms/step - loss: 0.4171\n",
            "Epoch 6/20\n",
            "2/2 [==============================] - 0s 8ms/step - loss: 0.0803\n",
            "Epoch 7/20\n",
            "2/2 [==============================] - 0s 13ms/step - loss: 0.0163\n",
            "Epoch 8/20\n",
            "2/2 [==============================] - 0s 11ms/step - loss: 0.0082\n",
            "Epoch 9/20\n",
            "2/2 [==============================] - 0s 12ms/step - loss: 0.0073\n",
            "Epoch 10/20\n",
            "2/2 [==============================] - 0s 15ms/step - loss: 0.0050\n",
            "Epoch 11/20\n",
            "2/2 [==============================] - 0s 7ms/step - loss: 0.0049\n",
            "Epoch 12/20\n",
            "2/2 [==============================] - 0s 27ms/step - loss: 0.0046\n",
            "Epoch 13/20\n",
            "2/2 [==============================] - 0s 19ms/step - loss: 0.0041\n",
            "Epoch 14/20\n",
            "2/2 [==============================] - 0s 16ms/step - loss: 0.0039\n",
            "Epoch 15/20\n",
            "2/2 [==============================] - 0s 12ms/step - loss: 0.0042\n",
            "Epoch 16/20\n",
            "2/2 [==============================] - 0s 17ms/step - loss: 0.0038\n",
            "Epoch 17/20\n",
            "2/2 [==============================] - 0s 16ms/step - loss: 0.0037\n",
            "Epoch 18/20\n",
            "2/2 [==============================] - 0s 8ms/step - loss: 0.0037\n",
            "Epoch 19/20\n",
            "2/2 [==============================] - 0s 9ms/step - loss: 0.0037\n",
            "Epoch 20/20\n",
            "2/2 [==============================] - 0s 8ms/step - loss: 0.0037\n"
          ]
        }
      ]
    },
    {
      "cell_type": "code",
      "source": [
        "codings=encoder.predict(X_train)"
      ],
      "metadata": {
        "colab": {
          "base_uri": "https://localhost:8080/"
        },
        "id": "W-Aj-NN7W-Yt",
        "outputId": "7737a1e0-c40b-41dd-9214-3a737b995db3"
      },
      "execution_count": 6,
      "outputs": [
        {
          "output_type": "stream",
          "name": "stdout",
          "text": [
            "2/2 [==============================] - 0s 7ms/step\n"
          ]
        }
      ]
    },
    {
      "cell_type": "code",
      "source": [
        "fig = plt.figure(figsize=(4,3))\n",
        "plt.plot(codings[:,0], codings[:, 1], \"b.\")\n",
        "plt.xlabel(\"$z_1$\", fontsize=18)\n",
        "plt.ylabel(\"$z_2$\", fontsize=18, rotation=0)\n",
        "plt.grid(True)\n",
        "save_fig(\"linear_autoencoder_pca_plot\")\n",
        "plt.show()\n"
      ],
      "metadata": {
        "colab": {
          "base_uri": "https://localhost:8080/",
          "height": 500
        },
        "id": "WdvYN5W3ZAwo",
        "outputId": "a74c0316-c6d8-437f-c160-c21df5e4e32c"
      },
      "execution_count": 7,
      "outputs": [
        {
          "output_type": "error",
          "ename": "NameError",
          "evalue": "name 'save_fig' is not defined",
          "traceback": [
            "\u001b[0;31m---------------------------------------------------------------------------\u001b[0m",
            "\u001b[0;31mNameError\u001b[0m                                 Traceback (most recent call last)",
            "\u001b[0;32m<ipython-input-7-9cb1bb312962>\u001b[0m in \u001b[0;36m<cell line: 6>\u001b[0;34m()\u001b[0m\n\u001b[1;32m      4\u001b[0m \u001b[0mplt\u001b[0m\u001b[0;34m.\u001b[0m\u001b[0mylabel\u001b[0m\u001b[0;34m(\u001b[0m\u001b[0;34m\"$z_2$\"\u001b[0m\u001b[0;34m,\u001b[0m \u001b[0mfontsize\u001b[0m\u001b[0;34m=\u001b[0m\u001b[0;36m18\u001b[0m\u001b[0;34m,\u001b[0m \u001b[0mrotation\u001b[0m\u001b[0;34m=\u001b[0m\u001b[0;36m0\u001b[0m\u001b[0;34m)\u001b[0m\u001b[0;34m\u001b[0m\u001b[0;34m\u001b[0m\u001b[0m\n\u001b[1;32m      5\u001b[0m \u001b[0mplt\u001b[0m\u001b[0;34m.\u001b[0m\u001b[0mgrid\u001b[0m\u001b[0;34m(\u001b[0m\u001b[0;32mTrue\u001b[0m\u001b[0;34m)\u001b[0m\u001b[0;34m\u001b[0m\u001b[0;34m\u001b[0m\u001b[0m\n\u001b[0;32m----> 6\u001b[0;31m \u001b[0msave_fig\u001b[0m\u001b[0;34m(\u001b[0m\u001b[0;34m\"linear_autoencoder_pca_plot\"\u001b[0m\u001b[0;34m)\u001b[0m\u001b[0;34m\u001b[0m\u001b[0;34m\u001b[0m\u001b[0m\n\u001b[0m\u001b[1;32m      7\u001b[0m \u001b[0mplt\u001b[0m\u001b[0;34m.\u001b[0m\u001b[0mshow\u001b[0m\u001b[0;34m(\u001b[0m\u001b[0;34m)\u001b[0m\u001b[0;34m\u001b[0m\u001b[0;34m\u001b[0m\u001b[0m\n",
            "\u001b[0;31mNameError\u001b[0m: name 'save_fig' is not defined"
          ]
        },
        {
          "output_type": "display_data",
          "data": {
            "text/plain": [
              "<Figure size 400x300 with 1 Axes>"
            ],
            "image/png": "[encoded data removed]"
          },
          "metadata": {}
        }
      ]
    },
    {
      "cell_type": "code",
      "source": [
        " #stacked autoencoder"
      ],
      "metadata": {
        "id": "aghF6oq5Z7xZ"
      },
      "execution_count": null,
      "outputs": []
    },
    {
      "cell_type": "code",
      "source": [
        "(X_train_full, y_train_full), (X_test, y_test) = keras.datasets.fashion_mnist.load_data()\n",
        "X_train_full = X_train_full.astype(np.float32) / 255\n",
        "X_test = X_test.astype(np.float32) / 255\n",
        "X_train, X_valid = X_train_full[:-5000], X_train_full[-5000:]\n",
        "y_train, y_valid = y_train_full[:-5000], y_train_full[-5000:]"
      ],
      "metadata": {
        "colab": {
          "base_uri": "https://localhost:8080/"
        },
        "id": "9bg8bVpyZ70H",
        "outputId": "0553fb86-0dc2-488a-ebe3-acf4bb74a901"
      },
      "execution_count": 8,
      "outputs": [
        {
          "output_type": "stream",
          "name": "stdout",
          "text": [
            "Downloading data from https://storage.googleapis.com/tensorflow/tf-keras-datasets/train-labels-idx1-ubyte.gz\n",
            "29515/29515 [==============================] - 0s 0us/step\n",
            "Downloading data from https://storage.googleapis.com/tensorflow/tf-keras-datasets/train-images-idx3-ubyte.gz\n",
            "26421880/26421880 [==============================] - 0s 0us/step\n",
            "Downloading data from https://storage.googleapis.com/tensorflow/tf-keras-datasets/t10k-labels-idx1-ubyte.gz\n",
            "5148/5148 [==============================] - 0s 0us/step\n",
            "Downloading data from https://storage.googleapis.com/tensorflow/tf-keras-datasets/t10k-images-idx3-ubyte.gz\n",
            "4422102/4422102 [==============================] - 0s 0us/step\n"
          ]
        }
      ]
    },
    {
      "cell_type": "code",
      "source": [
        "def rounded_accuracy(y_true, y_pred):\n",
        "    return keras.metrics.binary_accuracy(tf.round(y_true), tf.round(y_pred))"
      ],
      "metadata": {
        "id": "vXGczvnUZ73E"
      },
      "execution_count": 9,
      "outputs": []
    },
    {
      "cell_type": "code",
      "source": [
        "\n",
        "tf.random.set_seed(42)\n",
        "np.random.seed(42)\n",
        "\n",
        "stacked_encoder = keras.models.Sequential([\n",
        "    keras.layers.Flatten(input_shape=[28, 28]),\n",
        "    keras.layers.Dense(100, activation=\"selu\"),\n",
        "    keras.layers.Dense(30, activation=\"selu\"),\n",
        "])\n",
        "stacked_decoder = keras.models.Sequential([\n",
        "    keras.layers.Dense(100, activation=\"selu\", input_shape=[30]),\n",
        "    keras.layers.Dense(28 * 28, activation=\"sigmoid\"),\n",
        "    keras.layers.Reshape([28, 28])\n",
        "])\n",
        "stacked_ae = keras.models.Sequential([stacked_encoder, stacked_decoder])\n",
        "stacked_ae.compile(loss=\"binary_crossentropy\",\n",
        "                   optimizer=keras.optimizers.SGD(learning_rate=1.5), metrics=[rounded_accuracy])\n",
        "history = stacked_ae.fit(X_train, X_train, epochs=20,\n",
        "                         validation_data=(X_valid, X_valid))\n"
      ],
      "metadata": {
        "colab": {
          "base_uri": "https://localhost:8080/"
        },
        "id": "evhBKQVSZ76j",
        "outputId": "270a19a3-8145-4dc9-aa87-25e391221df5"
      },
      "execution_count": 10,
      "outputs": [
        {
          "output_type": "stream",
          "name": "stdout",
          "text": [
            "Epoch 1/20\n",
            "1719/1719 [==============================] - 11s 6ms/step - loss: 0.3359 - rounded_accuracy: 0.8890 - val_loss: 0.3138 - val_rounded_accuracy: 0.9053\n",
            "Epoch 2/20\n",
            "1719/1719 [==============================] - 13s 7ms/step - loss: 0.3049 - rounded_accuracy: 0.9158 - val_loss: 0.3036 - val_rounded_accuracy: 0.9202\n",
            "Epoch 3/20\n",
            "1719/1719 [==============================] - 17s 10ms/step - loss: 0.2985 - rounded_accuracy: 0.9217 - val_loss: 0.3021 - val_rounded_accuracy: 0.9124\n",
            "Epoch 4/20\n",
            "1719/1719 [==============================] - 17s 10ms/step - loss: 0.2949 - rounded_accuracy: 0.9249 - val_loss: 0.2942 - val_rounded_accuracy: 0.9273\n",
            "Epoch 5/20\n",
            "1719/1719 [==============================] - 14s 8ms/step - loss: 0.2923 - rounded_accuracy: 0.9270 - val_loss: 0.2923 - val_rounded_accuracy: 0.9276\n",
            "Epoch 6/20\n",
            "1719/1719 [==============================] - 13s 7ms/step - loss: 0.2904 - rounded_accuracy: 0.9287 - val_loss: 0.2909 - val_rounded_accuracy: 0.9308\n",
            "Epoch 7/20\n",
            "1719/1719 [==============================] - 9s 5ms/step - loss: 0.2889 - rounded_accuracy: 0.9299 - val_loss: 0.2898 - val_rounded_accuracy: 0.9319\n",
            "Epoch 8/20\n",
            "1719/1719 [==============================] - 10s 6ms/step - loss: 0.2877 - rounded_accuracy: 0.9309 - val_loss: 0.2907 - val_rounded_accuracy: 0.9290\n",
            "Epoch 9/20\n",
            "1719/1719 [==============================] - 10s 6ms/step - loss: 0.2869 - rounded_accuracy: 0.9315 - val_loss: 0.2900 - val_rounded_accuracy: 0.9271\n",
            "Epoch 10/20\n",
            "1719/1719 [==============================] - 9s 5ms/step - loss: 0.2860 - rounded_accuracy: 0.9321 - val_loss: 0.2873 - val_rounded_accuracy: 0.9324\n",
            "Epoch 11/20\n",
            "1719/1719 [==============================] - 10s 6ms/step - loss: 0.2853 - rounded_accuracy: 0.9327 - val_loss: 0.2862 - val_rounded_accuracy: 0.9336\n",
            "Epoch 12/20\n",
            "1719/1719 [==============================] - 10s 6ms/step - loss: 0.2848 - rounded_accuracy: 0.9330 - val_loss: 0.2858 - val_rounded_accuracy: 0.9342\n",
            "Epoch 13/20\n",
            "1719/1719 [==============================] - 10s 6ms/step - loss: 0.2843 - rounded_accuracy: 0.9334 - val_loss: 0.2857 - val_rounded_accuracy: 0.9338\n",
            "Epoch 14/20\n",
            "1719/1719 [==============================] - 10s 6ms/step - loss: 0.2838 - rounded_accuracy: 0.9338 - val_loss: 0.2847 - val_rounded_accuracy: 0.9347\n",
            "Epoch 15/20\n",
            "1719/1719 [==============================] - 9s 5ms/step - loss: 0.2834 - rounded_accuracy: 0.9341 - val_loss: 0.2857 - val_rounded_accuracy: 0.9309\n",
            "Epoch 16/20\n",
            "1719/1719 [==============================] - 10s 6ms/step - loss: 0.2830 - rounded_accuracy: 0.9345 - val_loss: 0.2854 - val_rounded_accuracy: 0.9340\n",
            "Epoch 17/20\n",
            "1719/1719 [==============================] - 10s 6ms/step - loss: 0.2827 - rounded_accuracy: 0.9347 - val_loss: 0.2837 - val_rounded_accuracy: 0.9351\n",
            "Epoch 18/20\n",
            "1719/1719 [==============================] - 10s 6ms/step - loss: 0.2824 - rounded_accuracy: 0.9350 - val_loss: 0.2835 - val_rounded_accuracy: 0.9359\n",
            "Epoch 19/20\n",
            "1719/1719 [==============================] - 10s 6ms/step - loss: 0.2820 - rounded_accuracy: 0.9352 - val_loss: 0.2831 - val_rounded_accuracy: 0.9355\n",
            "Epoch 20/20\n",
            "1719/1719 [==============================] - 10s 6ms/step - loss: 0.2817 - rounded_accuracy: 0.9355 - val_loss: 0.2835 - val_rounded_accuracy: 0.9360\n"
          ]
        }
      ]
    },
    {
      "cell_type": "code",
      "source": [
        "import matplotlib.pyplot as plt\n",
        "\n",
        "def show_reconstructions(model, images=X_valid, n_images=5):\n",
        "    reconstructions = model.predict(images[:n_images])\n",
        "    fig = plt.figure(figsize=(n_images * 1.5, 3))\n",
        "    for image_index in range(n_images):\n",
        "        plt.subplot(2, n_images, 1 + image_index)\n",
        "        plt.imshow(images[image_index], cmap=\"binary\") # Use plt.imshow to display the image\n",
        "        plt.axis(\"off\")\n",
        "        plt.subplot(2, n_images, 1 + n_images + image_index)\n",
        "        plt.imshow(reconstructions[image_index], cmap=\"binary\") # Use plt.imshow to display the image\n",
        "        plt.axis(\"off\")\n",
        "    plt.show() # Display the plot"
      ],
      "metadata": {
        "id": "nZLaGB15dWRw"
      },
      "execution_count": 11,
      "outputs": []
    },
    {
      "cell_type": "code",
      "source": [
        "\n",
        "show_reconstructions(stacked_ae)\n",
        "save_fig(\"reconstruction_plot\")"
      ],
      "metadata": {
        "colab": {
          "base_uri": "https://localhost:8080/",
          "height": 422
        },
        "id": "iksyEP9yektq",
        "outputId": "8025751c-d644-48df-9870-8fdf91155c80"
      },
      "execution_count": 12,
      "outputs": [
        {
          "output_type": "stream",
          "name": "stdout",
          "text": [
            "1/1 [==============================] - 0s 81ms/step\n"
          ]
        },
        {
          "output_type": "display_data",
          "data": {
            "text/plain": [
              "<Figure size 750x300 with 10 Axes>"
            ],
            "image/png": "[encoded data removed]"
          },
          "metadata": {}
        },
        {
          "output_type": "error",
          "ename": "NameError",
          "evalue": "name 'save_fig' is not defined",
          "traceback": [
            "\u001b[0;31m---------------------------------------------------------------------------\u001b[0m",
            "\u001b[0;31mNameError\u001b[0m                                 Traceback (most recent call last)",
            "\u001b[0;32m<ipython-input-12-4aeb502e5edc>\u001b[0m in \u001b[0;36m<cell line: 2>\u001b[0;34m()\u001b[0m\n\u001b[1;32m      1\u001b[0m \u001b[0mshow_reconstructions\u001b[0m\u001b[0;34m(\u001b[0m\u001b[0mstacked_ae\u001b[0m\u001b[0;34m)\u001b[0m\u001b[0;34m\u001b[0m\u001b[0;34m\u001b[0m\u001b[0m\n\u001b[0;32m----> 2\u001b[0;31m \u001b[0msave_fig\u001b[0m\u001b[0;34m(\u001b[0m\u001b[0;34m\"reconstruction_plot\"\u001b[0m\u001b[0;34m)\u001b[0m\u001b[0;34m\u001b[0m\u001b[0;34m\u001b[0m\u001b[0m\n\u001b[0m",
            "\u001b[0;31mNameError\u001b[0m: name 'save_fig' is not defined"
          ]
        }
      ]
    },
    {
      "cell_type": "code",
      "source": [
        "#training a deep convolutional gan"
      ],
      "metadata": {
        "id": "1IaxPFWZela5"
      },
      "execution_count": null,
      "outputs": []
    },
    {
      "cell_type": "code",
      "source": [
        "tf.random.set_seed(42)\n",
        "np.random.seed(42)\n",
        "\n",
        "codings_size = 100\n",
        "\n",
        "generator = keras.models.Sequential([\n",
        "    keras.layers.Dense(7 * 7 * 128, input_shape=[codings_size]),\n",
        "    keras.layers.Reshape([7, 7, 128]),\n",
        "    keras.layers.BatchNormalization(),\n",
        "    keras.layers.Conv2DTranspose(64, kernel_size=5, strides=2, padding=\"SAME\",\n",
        "                                 activation=\"selu\"),\n",
        "    keras.layers.BatchNormalization(),\n",
        "    keras.layers.Conv2DTranspose(1, kernel_size=5, strides=2, padding=\"SAME\",\n",
        "                                 activation=\"tanh\"),\n",
        "])\n",
        "discriminator = keras.models.Sequential([\n",
        "    keras.layers.Conv2D(64, kernel_size=5, strides=2, padding=\"SAME\",\n",
        "                        activation=keras.layers.LeakyReLU(0.2),\n",
        "                        input_shape=[28, 28, 1]),\n",
        "    keras.layers.Dropout(0.4),\n",
        "    keras.layers.Conv2D(128, kernel_size=5, strides=2, padding=\"SAME\",\n",
        "                        activation=keras.layers.LeakyReLU(0.2)),\n",
        "    keras.layers.Dropout(0.4),\n",
        "    keras.layers.Flatten(),\n",
        "    keras.layers.Dense(1, activation=\"sigmoid\")\n",
        "])\n",
        "gan = keras.models.Sequential([generator, discriminator])"
      ],
      "metadata": {
        "id": "hLkFw-Ldelds"
      },
      "execution_count": 13,
      "outputs": []
    },
    {
      "cell_type": "code",
      "source": [
        "discriminator.compile(loss=\"binary_crossentropy\", optimizer=\"rmsprop\")\n",
        "discriminator.trainable = False\n",
        "gan.compile(loss=\"binary_crossentropy\", optimizer=\"rmsprop\")"
      ],
      "metadata": {
        "id": "VXXm7caHelgu"
      },
      "execution_count": 14,
      "outputs": []
    },
    {
      "cell_type": "code",
      "source": [
        "X_train_dcgan = X_train.reshape(-1, 28, 28, 1) * 2. - 1. # reshape and rescale"
      ],
      "metadata": {
        "id": "dAJbtwPHeljP"
      },
      "execution_count": 15,
      "outputs": []
    },
    {
      "cell_type": "code",
      "source": [
        "batch_size = 32\n",
        "dataset = tf.data.Dataset.from_tensor_slices(X_train_dcgan)\n",
        "dataset = dataset.shuffle(1000)\n",
        "dataset = dataset.batch(batch_size, drop_remainder=True).prefetch(1)"
      ],
      "metadata": {
        "id": "roIjp0j_gSdX"
      },
      "execution_count": 16,
      "outputs": []
    },
    {
      "cell_type": "code",
      "source": [],
      "metadata": {
        "id": "7leO8pxJgsH0"
      },
      "execution_count": 21,
      "outputs": []
    },
    {
      "cell_type": "code",
      "source": [],
      "metadata": {
        "id": "a-V8x7u4gWs8"
      },
      "execution_count": 21,
      "outputs": []
    }
  ]
}